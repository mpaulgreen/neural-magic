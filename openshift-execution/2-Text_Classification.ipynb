{
 "cells": [
  {
   "cell_type": "markdown",
   "id": "209c14d9-9860-4b32-9822-07c565182053",
   "metadata": {},
   "source": [
    "# Hardware used AWS c6i.8xlarge 32vCPUs and 64 GB Memory - (in RHOAI)"
   ]
  },
  {
   "cell_type": "markdown",
   "id": "f633bc23-70e1-4a87-b1bb-4f2f503d4164",
   "metadata": {},
   "source": [
    "# NLP Text Classification"
   ]
  },
  {
   "cell_type": "markdown",
   "id": "b4fc4287-8ad7-4ed1-a08a-06a02cb84d28",
   "metadata": {},
   "source": [
    "#### Inference pipeline"
   ]
  },
  {
   "cell_type": "code",
   "execution_count": 2,
   "id": "65b18078-2cba-4e18-a3da-972bd52df989",
   "metadata": {
    "tags": []
   },
   "outputs": [],
   "source": [
    "# !pip install transformers"
   ]
  },
  {
   "cell_type": "code",
   "execution_count": 1,
   "id": "6161403d-7657-4511-8183-e5be81f5fcaf",
   "metadata": {
    "tags": []
   },
   "outputs": [
    {
     "data": {
      "application/vnd.jupyter.widget-view+json": {
       "model_id": "fa91ee3bafe24a1089617d677b30f3f7",
       "version_major": 2,
       "version_minor": 0
      },
      "text/plain": [
       "Downloading (…)ed/deployment.tar.gz:   0%|          | 0.00/26.6M [00:00<?, ?B/s]"
      ]
     },
     "metadata": {},
     "output_type": "display_data"
    },
    {
     "name": "stderr",
     "output_type": "stream",
     "text": [
      "DeepSparse, Copyright 2021-present / Neuralmagic, Inc. version: 1.6.1 COMMUNITY | (eff4f95d) (release) (optimized) (system=avx512_vnni, binary=avx512)\n"
     ]
    },
    {
     "name": "stdout",
     "output_type": "stream",
     "text": [
      "labels=['contradiction'] scores=[0.9983579516410828]\n"
     ]
    }
   ],
   "source": [
    "from deepsparse import Pipeline\n",
    "\n",
    "classification_pipeline = Pipeline.create(\n",
    "    task=\"text-classification\",\n",
    "    model_path=\"zoo:nlp/text_classification/distilbert-none/pytorch/huggingface/mnli/pruned80_quant-none-vnni\",\n",
    ")\n",
    "inference = classification_pipeline(\n",
    "    [[\n",
    "        \"Fun for adults and children.\",\n",
    "        \"Fun for only children.\",\n",
    "    ]]\n",
    ")\n",
    "print(inference)"
   ]
  },
  {
   "cell_type": "markdown",
   "id": "924070c9-5943-40e4-bd22-2d7c703beaeb",
   "metadata": {
    "tags": []
   },
   "source": [
    "#### Inference pipeline with dense model"
   ]
  },
  {
   "cell_type": "code",
   "execution_count": 2,
   "id": "6c717cf9-7008-4e4c-afbd-dae90f61ba98",
   "metadata": {
    "tags": []
   },
   "outputs": [
    {
     "data": {
      "application/vnd.jupyter.widget-view+json": {
       "model_id": "1058d1f5fee64b2bb3de446de5ce0d08",
       "version_major": 2,
       "version_minor": 0
      },
      "text/plain": [
       "Downloading (…)se/deployment.tar.gz:   0%|          | 0.00/236M [00:00<?, ?B/s]"
      ]
     },
     "metadata": {},
     "output_type": "display_data"
    },
    {
     "name": "stdout",
     "output_type": "stream",
     "text": [
      "labels=['contradiction'] scores=[0.979464054107666]\n"
     ]
    }
   ],
   "source": [
    "from deepsparse import Pipeline\n",
    "\n",
    "classification_pipeline = Pipeline.create(\n",
    "    task=\"text-classification\",\n",
    "    model_path=\"zoo:nlp/text_classification/distilbert-none/pytorch/huggingface/mnli/base-none\",\n",
    ")\n",
    "inference = classification_pipeline(\n",
    "    [[\n",
    "        \"Fun for adults and children.\",\n",
    "        \"Fun for only children.\",\n",
    "    ]]\n",
    ")\n",
    "print(inference)"
   ]
  },
  {
   "cell_type": "markdown",
   "id": "eafc117f-7d00-4590-8bd2-dde781e52ec5",
   "metadata": {},
   "source": [
    "#### Inference pipeline with local model"
   ]
  },
  {
   "cell_type": "code",
   "execution_count": 3,
   "id": "d31ac7e7-1125-4548-8a4f-2de5b8891dcd",
   "metadata": {
    "tags": []
   },
   "outputs": [],
   "source": [
    "# TODO as it will be need experiments of CLI based transfer learning"
   ]
  },
  {
   "cell_type": "markdown",
   "id": "1823df0c-0668-4b76-b8e0-c24a6a10fe8b",
   "metadata": {},
   "source": [
    "#### Inference pipeline with zero shot learning"
   ]
  },
  {
   "cell_type": "code",
   "execution_count": 4,
   "id": "f44e8255-5106-49e7-b41c-737ba6323725",
   "metadata": {
    "tags": []
   },
   "outputs": [
    {
     "name": "stdout",
     "output_type": "stream",
     "text": [
      "sequences='Who are you voting for in 2020?' labels=['politics', 'Europe', 'public health'] scores=[0.9345628619194031, 0.039115309715270996, 0.026321841403841972]\n"
     ]
    }
   ],
   "source": [
    "from deepsparse import Pipeline\n",
    "\n",
    "zero_shot_pipeline = Pipeline.create(\n",
    "    task=\"zero_shot_text_classification\",\n",
    "    model_path=\"zoo:nlp/text_classification/distilbert-none/pytorch/huggingface/mnli/pruned80_quant-none-vnni\",\n",
    "    model_scheme=\"mnli\",\n",
    "    model_config={\"hypothesis_template\": \"This text is related to {}\"},\n",
    ")\n",
    "inference = zero_shot_pipeline(\n",
    "    sequences='Who are you voting for in 2020?',\n",
    "    labels=['politics', 'public health', 'Europe'],\n",
    ")\n",
    "print(inference)"
   ]
  },
  {
   "cell_type": "markdown",
   "id": "03e5dbf3-0407-4b87-9981-8f728a11d88e",
   "metadata": {},
   "source": [
    "#### Benchmarking"
   ]
  },
  {
   "cell_type": "code",
   "execution_count": 5,
   "id": "a4207ab9-bf61-4038-a718-b3a3ead52c3e",
   "metadata": {
    "tags": []
   },
   "outputs": [
    {
     "name": "stderr",
     "output_type": "stream",
     "text": [
      "huggingface/tokenizers: The current process just got forked, after parallelism has already been used. Disabling parallelism to avoid deadlocks...\n",
      "To disable this warning, you can either:\n",
      "\t- Avoid using `tokenizers` before the fork if possible\n",
      "\t- Explicitly set the environment variable TOKENIZERS_PARALLELISM=(true | false)\n"
     ]
    },
    {
     "name": "stdout",
     "output_type": "stream",
     "text": [
      "2024-01-24 00:12:20 deepsparse.benchmark.helpers INFO     Thread pinning to cores enabled\n",
      "DeepSparse, Copyright 2021-present / Neuralmagic, Inc. version: 1.6.1 COMMUNITY | (eff4f95d) (release) (optimized) (system=avx512_vnni, binary=avx512)\n",
      "2024-01-24 00:12:23 deepsparse.benchmark.benchmark_model INFO     deepsparse.engine.Engine:\n",
      "\tonnx_file_path: /opt/app-root/src/.cache/sparsezoo/neuralmagic/distilbert-mnli_wikipedia_bookcorpus-base/deployment/model.onnx\n",
      "\tbatch_size: 1\n",
      "\tnum_cores: 16\n",
      "\tnum_streams: 1\n",
      "\tscheduler: Scheduler.default\n",
      "\tfraction_of_supported_ops: 0.982\n",
      "\tcpu_avx_type: avx512\n",
      "\tcpu_vnni: True\n",
      "2024-01-24 00:12:23 deepsparse.utils.onnx INFO     Generating input 'input_ids', type = int64, shape = [1, 128]\n",
      "2024-01-24 00:12:23 deepsparse.utils.onnx INFO     Generating input 'attention_mask', type = int64, shape = [1, 128]\n",
      "2024-01-24 00:12:23 deepsparse.benchmark.benchmark_model INFO     Starting 'singlestream' performance measurements for 10 seconds\n",
      "Original Model Path: zoo:nlp/text_classification/distilbert-none/pytorch/huggingface/mnli/base-none\n",
      "Batch Size: 1\n",
      "Scenario: sync\n",
      "Throughput (items/sec): 49.5997\n",
      "Latency Mean (ms/batch): 20.1523\n",
      "Latency Median (ms/batch): 7.5108\n",
      "Latency Std (ms/batch): 25.1497\n",
      "Iterations: 496\n"
     ]
    }
   ],
   "source": [
    "!deepsparse.benchmark zoo:nlp/text_classification/distilbert-none/pytorch/huggingface/mnli/base-none ## Dense model"
   ]
  },
  {
   "cell_type": "code",
   "execution_count": 6,
   "id": "8847cfe0-6f23-48c9-a7e6-6dad5f41d02f",
   "metadata": {
    "tags": []
   },
   "outputs": [
    {
     "name": "stderr",
     "output_type": "stream",
     "text": [
      "huggingface/tokenizers: The current process just got forked, after parallelism has already been used. Disabling parallelism to avoid deadlocks...\n",
      "To disable this warning, you can either:\n",
      "\t- Avoid using `tokenizers` before the fork if possible\n",
      "\t- Explicitly set the environment variable TOKENIZERS_PARALLELISM=(true | false)\n"
     ]
    },
    {
     "name": "stdout",
     "output_type": "stream",
     "text": [
      "2024-01-24 00:12:44 deepsparse.benchmark.helpers INFO     Thread pinning to cores enabled\n",
      "DeepSparse, Copyright 2021-present / Neuralmagic, Inc. version: 1.6.1 COMMUNITY | (eff4f95d) (release) (optimized) (system=avx512_vnni, binary=avx512)\n",
      "2024-01-24 00:12:48 deepsparse.benchmark.benchmark_model INFO     deepsparse.engine.Engine:\n",
      "\tonnx_file_path: /opt/app-root/src/.cache/sparsezoo/neuralmagic/distilbert-mnli_wikipedia_bookcorpus-pruned80.4block_quantized/deployment/model.onnx\n",
      "\tbatch_size: 1\n",
      "\tnum_cores: 16\n",
      "\tnum_streams: 1\n",
      "\tscheduler: Scheduler.default\n",
      "\tfraction_of_supported_ops: 0.9882\n",
      "\tcpu_avx_type: avx512\n",
      "\tcpu_vnni: True\n",
      "2024-01-24 00:12:48 deepsparse.utils.onnx INFO     Generating input 'input_ids', type = int64, shape = [1, 128]\n",
      "2024-01-24 00:12:48 deepsparse.utils.onnx INFO     Generating input 'attention_mask', type = int64, shape = [1, 128]\n",
      "2024-01-24 00:12:48 deepsparse.benchmark.benchmark_model INFO     Starting 'singlestream' performance measurements for 10 seconds\n",
      "Original Model Path: zoo:nlp/text_classification/distilbert-none/pytorch/huggingface/mnli/pruned80_quant-none-vnni\n",
      "Batch Size: 1\n",
      "Scenario: sync\n",
      "Throughput (items/sec): 160.8861\n",
      "Latency Mean (ms/batch): 6.2109\n",
      "Latency Median (ms/batch): 2.1137\n",
      "Latency Std (ms/batch): 15.8390\n",
      "Iterations: 1609\n"
     ]
    }
   ],
   "source": [
    "!deepsparse.benchmark zoo:nlp/text_classification/distilbert-none/pytorch/huggingface/mnli/pruned80_quant-none-vnni ## Sparse model"
   ]
  },
  {
   "cell_type": "code",
   "execution_count": null,
   "id": "adbd1074-0f1f-4851-bb5a-e9417151ef04",
   "metadata": {},
   "outputs": [],
   "source": []
  }
 ],
 "metadata": {
  "environment": {
   "kernel": "python3",
   "name": "common-cpu.m114",
   "type": "gcloud",
   "uri": "gcr.io/deeplearning-platform-release/base-cpu:m114"
  },
  "kernelspec": {
   "display_name": "Python 3.9",
   "language": "python",
   "name": "python3"
  },
  "language_info": {
   "codemirror_mode": {
    "name": "ipython",
    "version": 3
   },
   "file_extension": ".py",
   "mimetype": "text/x-python",
   "name": "python",
   "nbconvert_exporter": "python",
   "pygments_lexer": "ipython3",
   "version": "3.9.16"
  }
 },
 "nbformat": 4,
 "nbformat_minor": 5
}
